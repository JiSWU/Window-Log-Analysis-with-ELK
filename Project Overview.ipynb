{
 "cells": [
  {
   "cell_type": "markdown",
   "metadata": {},
   "source": [
    "## Project: Windows Log Analysis\n",
    "\n",
    "#### Project Overview\n",
    "1. Use sysmon and gpedit to collect the client's window log.\n",
    "2. Send the collected logs to the logstash server using winlogbeat.\n",
    "3. Index the logs received from winlogbeat and send them to the elasticsearch server.\n",
    "4. filter data and visualize it easily by using Kibana.\n",
    "\n",
    "#### Used tool\n",
    "You can download the tools by clicking the link.\n",
    " - [Sysmon](https://docs.microsoft.com/en-us/sysinternals/downloads/sysmon): Windows log collection\n",
    " - [Gpedit](https://www.microsoft.com/en-us/download/details.aspx?id=21895): Windows file log collection\n",
    " - [Winlogbeat](https://www.elastic.co/kr/): Send the collected logs to logstash\n",
    " - [ELK](https://www.elastic.co/kr/): Mass log collection and analysis \n",
    " - Ubuntu: Server(installed ELK) \n",
    "\n",
    "#### Install method\n",
    " - You can download Sysmon and winlogbeat in upper links. Then, you just unzip the file.\n",
    " - If you are using windows 10, you need additional configuration to use Gpedit. See this homepage [setting for Gpedit](https://www.itechtics.com/easily-enable-group-policy-editor-gpedit-msc-in-windows-10-home-edition/) or [If you are korean, click this link](https://www.tabmode.com/goods/windows10/windows10_gpedit.html).\n",
    " - Installing ELK in ubuntu: [setting for Gpedit](https://www.digitalocean.com/community/tutorials/how-to-install-elasticsearch-logstash-and-kibana-elk-stack-on-ubuntu-14-04)\n",
    " \n",
    "#### Execute\n",
    " Before you execute sysmon and winlogbeat, you need to start ELK in ubuntu server.\n",
    " I uploaded configure file of sysmon and winlogbeat in each folder.\n",
    "1. execute sysmon by using this command: Sysmon64.exe -accepteula -i mysysmon1.cfg -l -n  \n",
    "&nbsp;&nbsp;&nbsp;&nbsp; If you need to filter sysmon log, you can edit mysysmon1.cfg.\n",
    "2. execute winlogbeat by using this command: winlogbeat.exe -c winlogbeat.yml -e  \n",
    "&nbsp;&nbsp;&nbsp;&nbsp; If you want to send logs to logstash server, you can edit winlogbeat.yml."
   ]
  },
  {
   "cell_type": "markdown",
   "metadata": {},
   "source": [
    "#### Result: Dashboard 1 \n",
    "![Dashboard1](./image/dashboard1.png)\n",
    " - version1. 각 유저 별 총 로그 수\n",
    " - version1_total_graph: 시간대별로 보는 로그 그래프\n",
    " - version1_toptask: 사용자들이 많이 하는 일 시각화\n",
    " - version2_kakao: 카카오톡 메신저 사용량 시각화\n",
    " - version2_driver: 드라이버 사용량 시각화\n",
    " - version4_timezone_per_oneday: 24 hours 동안의 로그만 수집\n",
    "\n",
    "#### Result: Dashboard 2\n",
    "![Dashboard2](./image/Dashboard2.png)\n",
    " - version3_specific_folder_access: 특정 폴더에 접근하는 유저 정보 시각화\n",
    " - version3_accessed_file_top10: 많이 사용되는 파일 top 10\n",
    " - version3_specific_file_access: 특정 파일에 접근하는 유저 정보 시각화\n",
    " - version3_specific_file_delete: 특정 파일 삭제하는 유저 정보 시각화\n",
    " - version3_kakao: 어느 유저가 카카오로 특정 파일 전송하는지 시각화\n",
    " - version3_chrome: 어느 유저가 크롬으로 특정 파일 전송하는지 시각화\n",
    " "
   ]
  },
  {
   "cell_type": "code",
   "execution_count": null,
   "metadata": {},
   "outputs": [],
   "source": []
  }
 ],
 "metadata": {
  "kernelspec": {
   "display_name": "Python 2",
   "language": "python",
   "name": "python2"
  },
  "language_info": {
   "codemirror_mode": {
    "name": "ipython",
    "version": 2
   },
   "file_extension": ".py",
   "mimetype": "text/x-python",
   "name": "python",
   "nbconvert_exporter": "python",
   "pygments_lexer": "ipython2",
   "version": "2.7.12"
  }
 },
 "nbformat": 4,
 "nbformat_minor": 2
}
