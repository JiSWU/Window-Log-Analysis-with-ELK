{
 "cells": [
  {
   "cell_type": "markdown",
   "metadata": {},
   "source": [
    "### Kibana Dashboard Filtering"
   ]
  },
  {
   "cell_type": "code",
   "execution_count": 1,
   "metadata": {},
   "outputs": [
    {
     "data": {
      "text/plain": [
       "{'query': {'match': {'event_data.Image': {'query': 'KakaoTalk.exe',\n",
       "    'type': 'phrase'}}}}"
      ]
     },
     "execution_count": 1,
     "metadata": {},
     "output_type": "execute_result"
    }
   ],
   "source": [
    "# 1. version2_kakao\n",
    "{\n",
    "  \"query\": {\n",
    "    \"match\": {\n",
    "      \"event_data.Image\": {\n",
    "        \"query\": \"KakaoTalk.exe\", # you should write your kakaotalk path\n",
    "        \"type\": \"phrase\"\n",
    "      }\n",
    "    }\n",
    "  }\n",
    "}"
   ]
  },
  {
   "cell_type": "code",
   "execution_count": 2,
   "metadata": {},
   "outputs": [
    {
     "data": {
      "text/plain": [
       "{'query': {'bool': {'must': [{'term': {'event_id': 6}},\n",
       "    {'wildcard': {'event_data.ImageLoaded': 'drivers'}}]}}}"
      ]
     },
     "execution_count": 2,
     "metadata": {},
     "output_type": "execute_result"
    }
   ],
   "source": [
    "# 2. version2_driver\n",
    "{\n",
    "  \"query\": {\n",
    "    \"bool\": {\n",
    "      \"must\": [\n",
    "        {\n",
    "          \"term\": {\n",
    "            \"event_id\": 6\n",
    "          }\n",
    "        },\n",
    "        {\n",
    "          \"wildcard\": {\n",
    "            \"event_data.ImageLoaded\": \"drivers\" # you should write your driver path\n",
    "          }\n",
    "        }\n",
    "      ]\n",
    "    }\n",
    "  }\n",
    "}"
   ]
  },
  {
   "cell_type": "code",
   "execution_count": 3,
   "metadata": {},
   "outputs": [
    {
     "data": {
      "text/plain": [
       "{'query': {'range': {'@timestamp': {'gte': 'now-1d/d', 'lt': 'now/d'}}}}"
      ]
     },
     "execution_count": 3,
     "metadata": {},
     "output_type": "execute_result"
    }
   ],
   "source": [
    "# 3. version4_timezone_per_oneday\n",
    "{\n",
    "  \"query\": {\n",
    "    \"range\": {\n",
    "      \"@timestamp\": {\n",
    "        \"gte\": \"now-1d/d\",\n",
    "        \"lt\": \"now/d\"\n",
    "      }\n",
    "    }\n",
    "  }\n",
    "}"
   ]
  },
  {
   "cell_type": "code",
   "execution_count": 4,
   "metadata": {},
   "outputs": [
    {
     "data": {
      "text/plain": [
       "{'query': {'bool': {'must': [{'term': {'event_id': 4656}},\n",
       "    {'wildcard': {'task': 'File System'}}]}}}"
      ]
     },
     "execution_count": 4,
     "metadata": {},
     "output_type": "execute_result"
    }
   ],
   "source": [
    "# 4. version3_specific_folder_access\n",
    "{\n",
    "  \"query\": {\n",
    "    \"bool\": {\n",
    "      \"must\": [\n",
    "        {\n",
    "          \"term\": {\n",
    "            \"event_id\": 4656\n",
    "          }\n",
    "        },\n",
    "        {\n",
    "          \"wildcard\": {\n",
    "            \"task\": \"File System\"\n",
    "          }\n",
    "        }\n",
    "      ]\n",
    "    }\n",
    "  }\n",
    "}"
   ]
  },
  {
   "cell_type": "code",
   "execution_count": 5,
   "metadata": {},
   "outputs": [
    {
     "data": {
      "text/plain": [
       "{'query': {'bool': {'must': [{'term': {'event_id': 4656}},\n",
       "    {'wildcard': {'event_data.ObjectName': 'Downloads\\\\\\\\*'}}],\n",
       "   'must_not': [{'wildcard': {'event_data.ObjectName': 'Downloads\\\\\\\\*.ini'}},\n",
       "    {'wildcard': {'event_data.ObjectName': '\\\\\\\\*.exe'}}]}}}"
      ]
     },
     "execution_count": 5,
     "metadata": {},
     "output_type": "execute_result"
    }
   ],
   "source": [
    "# 5. version3_accessed_file_top10\n",
    "{\n",
    "  \"query\": {\n",
    "    \"bool\": {\n",
    "      \"must\": [\n",
    "        {\n",
    "          \"term\": {\n",
    "            \"event_id\": 4656\n",
    "          }\n",
    "        },\n",
    "        {\n",
    "          \"wildcard\": {\n",
    "            \"event_data.ObjectName\": \"Downloads\\\\\\\\*\" # Folder path you want to monitor\n",
    "          }\n",
    "        }\n",
    "      ],\n",
    "      \"must_not\": [\n",
    "        {\n",
    "          \"wildcard\": {\n",
    "            \"event_data.ObjectName\": \"Downloads\\\\\\\\*.ini\" # file path you do not want to monitor\n",
    "          }\n",
    "        },\n",
    "        {\n",
    "          \"wildcard\": {\n",
    "            \"event_data.ObjectName\": \"\\\\\\\\*.exe\" # file path you do not want to monitor\n",
    "          }\n",
    "        }\n",
    "      ]\n",
    "    }\n",
    "  }\n",
    "}"
   ]
  },
  {
   "cell_type": "code",
   "execution_count": 6,
   "metadata": {},
   "outputs": [
    {
     "data": {
      "text/plain": [
       "{'query': {'bool': {'must': [{'term': {'event_id': 4656}},\n",
       "    {'wildcard': {'event_data.ObjectName': 'Downloads\\\\\\\\Security*'}},\n",
       "    {'wildcard': {'event_data.AccessList': '%%1537\\n\\t\\t\\t\\t*'}}],\n",
       "   'must_not': [{'wildcard': {'event_data.ObjectName': 'Downloads\\\\\\\\*.ini'}},\n",
       "    {'wildcard': {'event_data.ObjectName': 'Downloads\\\\\\\\*.exe'}}]}}}"
      ]
     },
     "execution_count": 6,
     "metadata": {},
     "output_type": "execute_result"
    }
   ],
   "source": [
    "# 6. version3_specific_file_delete\n",
    "{\n",
    "  \"query\": {\n",
    "    \"bool\": {\n",
    "      \"must\": [\n",
    "        {\n",
    "          \"term\": {\n",
    "            \"event_id\": 4656\n",
    "          }\n",
    "        },\n",
    "        {\n",
    "          \"wildcard\": {\n",
    "            \"event_data.ObjectName\": \"Downloads\\\\\\\\Security*\" # file path you want to monitor\n",
    "          }\n",
    "        },\n",
    "        {\n",
    "          \"wildcard\": {\n",
    "            \"event_data.AccessList\": \"%%1537\\n\\t\\t\\t\\t*\"\n",
    "          }\n",
    "        }\n",
    "      ],\n",
    "      \"must_not\": [\n",
    "        {\n",
    "          \"wildcard\": {\n",
    "            \"event_data.ObjectName\": \"Downloads\\\\\\\\*.ini\" # file path you do not want to monitor\n",
    "          }\n",
    "        },\n",
    "        {\n",
    "          \"wildcard\": {\n",
    "            \"event_data.ObjectName\": \"Downloads\\\\\\\\*.exe\" # file path you do not want to monitor\n",
    "          }\n",
    "        }\n",
    "      ]\n",
    "    }\n",
    "  }\n",
    "}"
   ]
  },
  {
   "cell_type": "code",
   "execution_count": 7,
   "metadata": {},
   "outputs": [
    {
     "data": {
      "text/plain": [
       "{'query': {'bool': {'must': [{'term': {'event_id': 4656}},\n",
       "    {'wildcard': {'event_data.ObjectName': 'Downloads\\\\\\\\Security*'}}],\n",
       "   'must_not': [{'wildcard': {'event_data.ObjectName': 'Downloads\\\\\\\\*.ini'}},\n",
       "    {'wildcard': {'event_data.ObjectName': 'Downloads\\\\\\\\*.exe'}}]}}}"
      ]
     },
     "execution_count": 7,
     "metadata": {},
     "output_type": "execute_result"
    }
   ],
   "source": [
    "# 7. version3_specific_file_access\n",
    "{\n",
    "  \"query\": {\n",
    "    \"bool\": {\n",
    "      \"must\": [\n",
    "        {\n",
    "          \"term\": {\n",
    "            \"event_id\": 4656\n",
    "          }\n",
    "        },\n",
    "        {\n",
    "          \"wildcard\": {\n",
    "            \"event_data.ObjectName\": \"Downloads\\\\\\\\Security*\" # file path you want to monitor\n",
    "          }\n",
    "        }\n",
    "      ],\n",
    "      \"must_not\": [\n",
    "        {\n",
    "          \"wildcard\": {\n",
    "            \"event_data.ObjectName\": \"Downloads\\\\\\\\*.ini\" # file path you do not want to monitor\n",
    "          }\n",
    "        },\n",
    "        {\n",
    "          \"wildcard\": {\n",
    "            \"event_data.ObjectName\": \"Downloads\\\\\\\\*.exe\" # file path you do not want to monitor\n",
    "          }\n",
    "        }\n",
    "      ]\n",
    "    }\n",
    "  }\n",
    "}"
   ]
  },
  {
   "cell_type": "code",
   "execution_count": 8,
   "metadata": {},
   "outputs": [
    {
     "data": {
      "text/plain": [
       "{'query': {'bool': {'must': [{'term': {'event_id': 4656}},\n",
       "    {'wildcard': {'event_data.ObjectName': 'Downloads\\\\\\\\*'}},\n",
       "    {'wildcard': {'event_data.ProcessName': 'KakaoTalk.exe'}}]}}}"
      ]
     },
     "execution_count": 8,
     "metadata": {},
     "output_type": "execute_result"
    }
   ],
   "source": [
    "# 8. version3_kakako\n",
    "{\n",
    "  \"query\": {\n",
    "    \"bool\": {\n",
    "      \"must\": [\n",
    "        {\n",
    "          \"term\": {\n",
    "            \"event_id\": 4656\n",
    "          }\n",
    "        },\n",
    "        {\n",
    "          \"wildcard\": {\n",
    "            \"event_data.ObjectName\": \"Downloads\\\\\\\\*\" # folder path you want to monitor\n",
    "          }\n",
    "        },\n",
    "        {\n",
    "          \"wildcard\": {\n",
    "            \"event_data.ProcessName\": \"KakaoTalk.exe\" # file path you want to monitor\n",
    "          }\n",
    "        }\n",
    "      ]\n",
    "    }\n",
    "  }\n",
    "}"
   ]
  },
  {
   "cell_type": "code",
   "execution_count": 9,
   "metadata": {},
   "outputs": [
    {
     "data": {
      "text/plain": [
       "{'query': {'bool': {'must': [{'term': {'event_id': 4656}},\n",
       "    {'wildcard': {'event_data.ObjectName': 'Downloads\\\\\\\\*'}},\n",
       "    {'wildcard': {'event_data.ProcessName': 'chrome.exe'}}],\n",
       "   'must_not': [{'wildcard': {'event_data.ObjectName': 'Downloads\\\\\\\\*.crdownload'}},\n",
       "    {'wildcard': {'event_data.ObjectName': 'Downloads\\\\\\\\*.tmp'}},\n",
       "    {'wildcard': {'event_data.ObjectName': 'Downloads\\\\\\\\*.ini'}}]}}}"
      ]
     },
     "execution_count": 9,
     "metadata": {},
     "output_type": "execute_result"
    }
   ],
   "source": [
    "# 9. version3_chrome\n",
    "{\n",
    "  \"query\": {\n",
    "    \"bool\": {\n",
    "      \"must\": [\n",
    "        {\n",
    "          \"term\": {\n",
    "            \"event_id\": 4656\n",
    "          }\n",
    "        },\n",
    "        {\n",
    "          \"wildcard\": {\n",
    "            \"event_data.ObjectName\": \"Downloads\\\\\\\\*\" # folder path you want to monitor\n",
    "          }\n",
    "        },\n",
    "        {\n",
    "          \"wildcard\": {\n",
    "            \"event_data.ProcessName\": \"chrome.exe\" # file path you want to monitor\n",
    "          }\n",
    "        }\n",
    "      ],\n",
    "      \"must_not\": [\n",
    "        {\n",
    "          \"wildcard\": {\n",
    "            \"event_data.ObjectName\": \"Downloads\\\\\\\\*.crdownload\" # file path you do not want to monitor\n",
    "          }\n",
    "        },\n",
    "        {\n",
    "          \"wildcard\": {\n",
    "            \"event_data.ObjectName\": \"Downloads\\\\\\\\*.tmp\"  # file path you do not want to monitor\n",
    "          }\n",
    "        },\n",
    "        {\n",
    "          \"wildcard\": {\n",
    "            \"event_data.ObjectName\": \"Downloads\\\\\\\\*.ini\"  # file path you do not want to monitor\n",
    "          }\n",
    "        }\n",
    "      ]\n",
    "    }\n",
    "  }\n",
    "}"
   ]
  },
  {
   "cell_type": "code",
   "execution_count": null,
   "metadata": {},
   "outputs": [],
   "source": []
  }
 ],
 "metadata": {
  "kernelspec": {
   "display_name": "Python 3",
   "language": "python",
   "name": "python3"
  },
  "language_info": {
   "codemirror_mode": {
    "name": "ipython",
    "version": 3
   },
   "file_extension": ".py",
   "mimetype": "text/x-python",
   "name": "python",
   "nbconvert_exporter": "python",
   "pygments_lexer": "ipython3",
   "version": "3.6.5"
  }
 },
 "nbformat": 4,
 "nbformat_minor": 2
}
